{
 "cells": [
  {
   "cell_type": "markdown",
   "id": "large-pledge",
   "metadata": {},
   "source": [
    "## Data Variables:\n",
    "\n",
    "\"triage\": Triage given upon arrival to ED. Class=factor. Green, yellow, orange, red.\n",
    "\n",
    "\"age\": Age, rounded to lower integer. Class=numeric\n",
    "\n",
    "\"sex\": Class=factor. female/male\n",
    "\n",
    "\"crp\": S-C-reactive protein. Unit: nmol/l\n",
    "\n",
    "\"k\": S-Pottasium. Unit: mmol/L\n",
    "\n",
    "\"na\": S-Sodium. Unit: mmol/L\n",
    "\n",
    "\"hb\": S-haemoglobine. Unit: mmol/L\n",
    "\n",
    "\"crea\": S-creatinine. Unit: umol/L\n",
    "\n",
    "\"leu\": Blood leucocyte count. Unit: 10E9/L\n",
    "\n",
    "\"alb\": S-albumine. Unit: g/L\n",
    "\n",
    "\"ldh\": S-Lactate dehydrogenasis. Unit: U/L\n",
    "\n",
    "\"mort30\": 30-day survival. Class=factor: 0=Survived >30 days. 1= dead within 30 days.\n",
    "\n",
    "\"icutime\": Number of days on Intensive Care Unit. 99999=not admitted to ICU\n",
    "\n",
    "\"icustatus\": Class=factor. admitted to ICU yes/no. 0=no, 1=yes\n",
    "\n",
    "\"inddage\": Number of days admitted to hospital\n",
    "\n",
    "\"genindl.1\": Class=factor. Readmitted within 30 days yes/no. 1=yes, 0=no      \n",
    "\n",
    "\"saturation\": Peripheral arterial oxygen saturation. Unit: %.           \n",
    "\n",
    "\"respirationsfrekvens\": Respiratory rate. Unit: /min\n",
    "\n",
    "\"puls\": Heart rate. Unit: /min                 \n",
    "\n",
    "\"systoliskblodtryk\": Systolic blood pressure. Unit: mmHg    \n",
    "\n",
    "\"gcs\": Glascow coma score.        "
   ]
  },
  {
   "cell_type": "markdown",
   "id": "canadian-alabama",
   "metadata": {},
   "source": [
    "Source: https://datadryad.org/stash/dataset/doi%253A10.5061%252Fdryad.m2bq5"
   ]
  },
  {
   "cell_type": "markdown",
   "id": "scheduled-spirituality",
   "metadata": {},
   "source": [
    "## Import files & Python Packages"
   ]
  },
  {
   "cell_type": "code",
   "execution_count": 1,
   "id": "wound-reminder",
   "metadata": {},
   "outputs": [],
   "source": [
    "import pandas as pd\n",
    "import numpy as np\n",
    "import seaborn as sn\n",
    "import pyreadr"
   ]
  },
  {
   "cell_type": "code",
   "execution_count": 2,
   "id": "eleven-perspective",
   "metadata": {},
   "outputs": [],
   "source": [
    "file_t = pyreadr.read_r('data/PrimaryDataAkutDB_Upload2017.rda')"
   ]
  },
  {
   "cell_type": "code",
   "execution_count": 3,
   "id": "turkish-packet",
   "metadata": {},
   "outputs": [],
   "source": [
    "file_v = pyreadr.read_r('data/ValidationDataTriageDB_Upload2017.rda')"
   ]
  },
  {
   "cell_type": "code",
   "execution_count": 4,
   "id": "activated-edmonton",
   "metadata": {},
   "outputs": [
    {
     "name": "stdout",
     "output_type": "stream",
     "text": [
      "odict_keys(['data'])\n",
      "odict_keys(['data'])\n"
     ]
    }
   ],
   "source": [
    "print(file_t.keys())\n",
    "print(file_v.keys())"
   ]
  },
  {
   "cell_type": "code",
   "execution_count": 5,
   "id": "figured-watson",
   "metadata": {},
   "outputs": [],
   "source": [
    "train = file_t[\"data\"]"
   ]
  },
  {
   "cell_type": "code",
   "execution_count": 6,
   "id": "contained-survival",
   "metadata": {},
   "outputs": [],
   "source": [
    "val = file_v[\"data\"]"
   ]
  },
  {
   "cell_type": "code",
   "execution_count": 7,
   "id": "virtual-chorus",
   "metadata": {
    "scrolled": true
   },
   "outputs": [
    {
     "name": "stdout",
     "output_type": "stream",
     "text": [
      "(6249, 21)\n",
      "(6383, 18)\n"
     ]
    }
   ],
   "source": [
    "print(train.shape)\n",
    "print(val.shape)"
   ]
  },
  {
   "cell_type": "markdown",
   "id": "valid-appreciation",
   "metadata": {},
   "source": [
    "# Match Training & Validation Data Categories + Names"
   ]
  },
  {
   "cell_type": "code",
   "execution_count": 8,
   "id": "confused-huntington",
   "metadata": {},
   "outputs": [
    {
     "data": {
      "text/plain": [
       "Index(['triage', 'bts', 'puls', 'sat', 'rf', 'crp', 'k', 'natr', 'hb', 'crea',\n",
       "       'leu', 'alb', 'ldh', 'age', 'sex', 'mort30', 'ev_intensiv', 'LOS'],\n",
       "      dtype='object')"
      ]
     },
     "execution_count": 8,
     "metadata": {},
     "output_type": "execute_result"
    }
   ],
   "source": [
    "val.columns"
   ]
  },
  {
   "cell_type": "code",
   "execution_count": 9,
   "id": "foreign-chase",
   "metadata": {},
   "outputs": [
    {
     "data": {
      "text/plain": [
       "Index(['triage', 'age', 'sex', 'crp', 'k', 'na', 'hb', 'crea', 'leu', 'alb',\n",
       "       'ldh', 'mort30', 'icutime', 'icustatus', 'inddage', 'genindl.1',\n",
       "       'saturation', 'respirationsfrekvens', 'puls', 'systoliskblodtryk',\n",
       "       'gcs'],\n",
       "      dtype='object')"
      ]
     },
     "execution_count": 9,
     "metadata": {},
     "output_type": "execute_result"
    }
   ],
   "source": [
    "train.columns"
   ]
  },
  {
   "cell_type": "code",
   "execution_count": 10,
   "id": "rocky-mainland",
   "metadata": {},
   "outputs": [],
   "source": [
    "val = val.rename(columns={\"ev_intensiv\": \"admitted_icu\", 'natr': 'na'});"
   ]
  },
  {
   "cell_type": "code",
   "execution_count": 11,
   "id": "frequent-header",
   "metadata": {},
   "outputs": [],
   "source": [
    "train = train.rename(columns = {'icustatus':\"admitted_icu\", 'inddage': 'LOS', 'saturation': 'sat', 'respirationsfrekvens': 'rf', 'systoliskblodtryk':'bts'})"
   ]
  },
  {
   "cell_type": "code",
   "execution_count": 12,
   "id": "provincial-radio",
   "metadata": {},
   "outputs": [],
   "source": [
    "train.drop(columns = ['gcs', 'icutime','genindl.1'], inplace=True)"
   ]
  },
  {
   "cell_type": "code",
   "execution_count": 13,
   "id": "retained-wrestling",
   "metadata": {
    "scrolled": true
   },
   "outputs": [
    {
     "data": {
      "text/html": [
       "<div>\n",
       "<style scoped>\n",
       "    .dataframe tbody tr th:only-of-type {\n",
       "        vertical-align: middle;\n",
       "    }\n",
       "\n",
       "    .dataframe tbody tr th {\n",
       "        vertical-align: top;\n",
       "    }\n",
       "\n",
       "    .dataframe thead th {\n",
       "        text-align: right;\n",
       "    }\n",
       "</style>\n",
       "<table border=\"1\" class=\"dataframe\">\n",
       "  <thead>\n",
       "    <tr style=\"text-align: right;\">\n",
       "      <th></th>\n",
       "      <th>triage</th>\n",
       "      <th>age</th>\n",
       "      <th>sex</th>\n",
       "      <th>crp</th>\n",
       "      <th>k</th>\n",
       "      <th>na</th>\n",
       "      <th>hb</th>\n",
       "      <th>crea</th>\n",
       "      <th>leu</th>\n",
       "      <th>alb</th>\n",
       "      <th>ldh</th>\n",
       "      <th>mort30</th>\n",
       "      <th>admitted_icu</th>\n",
       "      <th>LOS</th>\n",
       "      <th>sat</th>\n",
       "      <th>rf</th>\n",
       "      <th>puls</th>\n",
       "      <th>bts</th>\n",
       "    </tr>\n",
       "  </thead>\n",
       "  <tbody>\n",
       "    <tr>\n",
       "      <th>0</th>\n",
       "      <td>yellow</td>\n",
       "      <td>75.0</td>\n",
       "      <td>female</td>\n",
       "      <td>281.1013</td>\n",
       "      <td>3.266996</td>\n",
       "      <td>135.5883</td>\n",
       "      <td>8.4</td>\n",
       "      <td>34.50495</td>\n",
       "      <td>24.61</td>\n",
       "      <td>22.25447</td>\n",
       "      <td>NaN</td>\n",
       "      <td>0.0</td>\n",
       "      <td>0.0</td>\n",
       "      <td>23</td>\n",
       "      <td>97.0</td>\n",
       "      <td>20</td>\n",
       "      <td>124</td>\n",
       "      <td>120</td>\n",
       "    </tr>\n",
       "  </tbody>\n",
       "</table>\n",
       "</div>"
      ],
      "text/plain": [
       "   triage   age     sex       crp         k        na   hb      crea    leu  \\\n",
       "0  yellow  75.0  female  281.1013  3.266996  135.5883  8.4  34.50495  24.61   \n",
       "\n",
       "        alb  ldh  mort30  admitted_icu  LOS   sat  rf puls  bts  \n",
       "0  22.25447  NaN     0.0           0.0   23  97.0  20  124  120  "
      ]
     },
     "execution_count": 13,
     "metadata": {},
     "output_type": "execute_result"
    }
   ],
   "source": [
    "train.head(1)"
   ]
  },
  {
   "cell_type": "code",
   "execution_count": 14,
   "id": "parental-devil",
   "metadata": {
    "scrolled": true
   },
   "outputs": [
    {
     "data": {
      "text/html": [
       "<div>\n",
       "<style scoped>\n",
       "    .dataframe tbody tr th:only-of-type {\n",
       "        vertical-align: middle;\n",
       "    }\n",
       "\n",
       "    .dataframe tbody tr th {\n",
       "        vertical-align: top;\n",
       "    }\n",
       "\n",
       "    .dataframe thead th {\n",
       "        text-align: right;\n",
       "    }\n",
       "</style>\n",
       "<table border=\"1\" class=\"dataframe\">\n",
       "  <thead>\n",
       "    <tr style=\"text-align: right;\">\n",
       "      <th></th>\n",
       "      <th>triage</th>\n",
       "      <th>bts</th>\n",
       "      <th>puls</th>\n",
       "      <th>sat</th>\n",
       "      <th>rf</th>\n",
       "      <th>crp</th>\n",
       "      <th>k</th>\n",
       "      <th>na</th>\n",
       "      <th>hb</th>\n",
       "      <th>crea</th>\n",
       "      <th>leu</th>\n",
       "      <th>alb</th>\n",
       "      <th>ldh</th>\n",
       "      <th>age</th>\n",
       "      <th>sex</th>\n",
       "      <th>mort30</th>\n",
       "      <th>admitted_icu</th>\n",
       "      <th>LOS</th>\n",
       "    </tr>\n",
       "    <tr>\n",
       "      <th>rownames</th>\n",
       "      <th></th>\n",
       "      <th></th>\n",
       "      <th></th>\n",
       "      <th></th>\n",
       "      <th></th>\n",
       "      <th></th>\n",
       "      <th></th>\n",
       "      <th></th>\n",
       "      <th></th>\n",
       "      <th></th>\n",
       "      <th></th>\n",
       "      <th></th>\n",
       "      <th></th>\n",
       "      <th></th>\n",
       "      <th></th>\n",
       "      <th></th>\n",
       "      <th></th>\n",
       "      <th></th>\n",
       "    </tr>\n",
       "  </thead>\n",
       "  <tbody>\n",
       "    <tr>\n",
       "      <th>405</th>\n",
       "      <td>yellow</td>\n",
       "      <td>168</td>\n",
       "      <td>58</td>\n",
       "      <td>99</td>\n",
       "      <td>18</td>\n",
       "      <td>2.9</td>\n",
       "      <td>3.9</td>\n",
       "      <td>142.0</td>\n",
       "      <td>5.5</td>\n",
       "      <td>82.0</td>\n",
       "      <td>6.57</td>\n",
       "      <td>35.55</td>\n",
       "      <td>192.9</td>\n",
       "      <td>85.0</td>\n",
       "      <td>0.0</td>\n",
       "      <td>0.0</td>\n",
       "      <td>0</td>\n",
       "      <td>1.0</td>\n",
       "    </tr>\n",
       "  </tbody>\n",
       "</table>\n",
       "</div>"
      ],
      "text/plain": [
       "          triage  bts puls sat  rf  crp    k     na   hb  crea   leu    alb  \\\n",
       "rownames                                                                      \n",
       "405       yellow  168   58  99  18  2.9  3.9  142.0  5.5  82.0  6.57  35.55   \n",
       "\n",
       "            ldh   age  sex  mort30 admitted_icu  LOS  \n",
       "rownames                                              \n",
       "405       192.9  85.0  0.0     0.0            0  1.0  "
      ]
     },
     "execution_count": 14,
     "metadata": {},
     "output_type": "execute_result"
    }
   ],
   "source": [
    "val.head(1)"
   ]
  },
  {
   "cell_type": "code",
   "execution_count": 15,
   "id": "residential-desire",
   "metadata": {
    "scrolled": true
   },
   "outputs": [
    {
     "data": {
      "text/plain": [
       "triage          category\n",
       "age              float64\n",
       "sex             category\n",
       "crp              float64\n",
       "k                float64\n",
       "na               float64\n",
       "hb               float64\n",
       "crea             float64\n",
       "leu              float64\n",
       "alb              float64\n",
       "ldh              float64\n",
       "mort30           float64\n",
       "admitted_icu     float64\n",
       "LOS                int32\n",
       "sat              float64\n",
       "rf                object\n",
       "puls              object\n",
       "bts               object\n",
       "dtype: object"
      ]
     },
     "execution_count": 15,
     "metadata": {},
     "output_type": "execute_result"
    }
   ],
   "source": [
    "train.dtypes"
   ]
  },
  {
   "cell_type": "code",
   "execution_count": 339,
   "id": "selected-karen",
   "metadata": {},
   "outputs": [],
   "source": [
    "# train['icutime']=np.where(train['icutime'] == 999999.0, None, train['icutime'])"
   ]
  },
  {
   "cell_type": "code",
   "execution_count": 340,
   "id": "flexible-gibraltar",
   "metadata": {},
   "outputs": [],
   "source": [
    "# 46 null triage\n",
    "# 654 missing crp\n",
    "# 603 missing k\n",
    "# 591 missing na"
   ]
  },
  {
   "cell_type": "code",
   "execution_count": 18,
   "id": "center-finnish",
   "metadata": {},
   "outputs": [],
   "source": [
    "train.dropna(inplace = True)"
   ]
  },
  {
   "cell_type": "code",
   "execution_count": 19,
   "id": "latter-cinema",
   "metadata": {},
   "outputs": [],
   "source": [
    "val.dropna(inplace=True)"
   ]
  },
  {
   "cell_type": "code",
   "execution_count": 343,
   "id": "organic-cleanup",
   "metadata": {
    "scrolled": true
   },
   "outputs": [
    {
     "data": {
      "text/html": [
       "<div>\n",
       "<style scoped>\n",
       "    .dataframe tbody tr th:only-of-type {\n",
       "        vertical-align: middle;\n",
       "    }\n",
       "\n",
       "    .dataframe tbody tr th {\n",
       "        vertical-align: top;\n",
       "    }\n",
       "\n",
       "    .dataframe thead th {\n",
       "        text-align: right;\n",
       "    }\n",
       "</style>\n",
       "<table border=\"1\" class=\"dataframe\">\n",
       "  <thead>\n",
       "    <tr style=\"text-align: right;\">\n",
       "      <th></th>\n",
       "      <th>age</th>\n",
       "      <th>crp</th>\n",
       "      <th>k</th>\n",
       "      <th>na</th>\n",
       "      <th>hb</th>\n",
       "      <th>crea</th>\n",
       "      <th>leu</th>\n",
       "      <th>alb</th>\n",
       "      <th>ldh</th>\n",
       "      <th>mort30</th>\n",
       "      <th>admitted_icu</th>\n",
       "      <th>LOS</th>\n",
       "      <th>sat</th>\n",
       "    </tr>\n",
       "  </thead>\n",
       "  <tbody>\n",
       "    <tr>\n",
       "      <th>age</th>\n",
       "      <td>1.000000</td>\n",
       "      <td>0.109956</td>\n",
       "      <td>0.067153</td>\n",
       "      <td>-0.112773</td>\n",
       "      <td>-0.300786</td>\n",
       "      <td>0.137490</td>\n",
       "      <td>0.050679</td>\n",
       "      <td>-0.394458</td>\n",
       "      <td>0.096314</td>\n",
       "      <td>0.185644</td>\n",
       "      <td>0.040699</td>\n",
       "      <td>0.168384</td>\n",
       "      <td>-0.245881</td>\n",
       "    </tr>\n",
       "    <tr>\n",
       "      <th>crp</th>\n",
       "      <td>0.109956</td>\n",
       "      <td>1.000000</td>\n",
       "      <td>-0.039596</td>\n",
       "      <td>-0.227597</td>\n",
       "      <td>-0.226596</td>\n",
       "      <td>0.121921</td>\n",
       "      <td>0.299928</td>\n",
       "      <td>-0.447836</td>\n",
       "      <td>0.076573</td>\n",
       "      <td>0.212812</td>\n",
       "      <td>0.101163</td>\n",
       "      <td>0.123628</td>\n",
       "      <td>-0.213507</td>\n",
       "    </tr>\n",
       "    <tr>\n",
       "      <th>k</th>\n",
       "      <td>0.067153</td>\n",
       "      <td>-0.039596</td>\n",
       "      <td>1.000000</td>\n",
       "      <td>-0.022909</td>\n",
       "      <td>-0.032937</td>\n",
       "      <td>0.247768</td>\n",
       "      <td>0.023261</td>\n",
       "      <td>0.011760</td>\n",
       "      <td>0.011618</td>\n",
       "      <td>0.057245</td>\n",
       "      <td>0.073851</td>\n",
       "      <td>0.060147</td>\n",
       "      <td>-0.064776</td>\n",
       "    </tr>\n",
       "    <tr>\n",
       "      <th>na</th>\n",
       "      <td>-0.112773</td>\n",
       "      <td>-0.227597</td>\n",
       "      <td>-0.022909</td>\n",
       "      <td>1.000000</td>\n",
       "      <td>0.169583</td>\n",
       "      <td>-0.015624</td>\n",
       "      <td>-0.100049</td>\n",
       "      <td>0.245157</td>\n",
       "      <td>-0.025894</td>\n",
       "      <td>-0.062688</td>\n",
       "      <td>-0.059980</td>\n",
       "      <td>-0.104175</td>\n",
       "      <td>0.070577</td>\n",
       "    </tr>\n",
       "    <tr>\n",
       "      <th>hb</th>\n",
       "      <td>-0.300786</td>\n",
       "      <td>-0.226596</td>\n",
       "      <td>-0.032937</td>\n",
       "      <td>0.169583</td>\n",
       "      <td>1.000000</td>\n",
       "      <td>-0.139448</td>\n",
       "      <td>-0.028538</td>\n",
       "      <td>0.548546</td>\n",
       "      <td>-0.099358</td>\n",
       "      <td>-0.190993</td>\n",
       "      <td>-0.032574</td>\n",
       "      <td>-0.091612</td>\n",
       "      <td>0.068199</td>\n",
       "    </tr>\n",
       "    <tr>\n",
       "      <th>crea</th>\n",
       "      <td>0.137490</td>\n",
       "      <td>0.121921</td>\n",
       "      <td>0.247768</td>\n",
       "      <td>-0.015624</td>\n",
       "      <td>-0.139448</td>\n",
       "      <td>1.000000</td>\n",
       "      <td>0.047663</td>\n",
       "      <td>-0.136196</td>\n",
       "      <td>0.026259</td>\n",
       "      <td>0.126268</td>\n",
       "      <td>0.072821</td>\n",
       "      <td>0.072856</td>\n",
       "      <td>-0.063848</td>\n",
       "    </tr>\n",
       "    <tr>\n",
       "      <th>leu</th>\n",
       "      <td>0.050679</td>\n",
       "      <td>0.299928</td>\n",
       "      <td>0.023261</td>\n",
       "      <td>-0.100049</td>\n",
       "      <td>-0.028538</td>\n",
       "      <td>0.047663</td>\n",
       "      <td>1.000000</td>\n",
       "      <td>-0.159893</td>\n",
       "      <td>0.036009</td>\n",
       "      <td>0.152382</td>\n",
       "      <td>0.076972</td>\n",
       "      <td>0.065359</td>\n",
       "      <td>-0.166231</td>\n",
       "    </tr>\n",
       "    <tr>\n",
       "      <th>alb</th>\n",
       "      <td>-0.394458</td>\n",
       "      <td>-0.447836</td>\n",
       "      <td>0.011760</td>\n",
       "      <td>0.245157</td>\n",
       "      <td>0.548546</td>\n",
       "      <td>-0.136196</td>\n",
       "      <td>-0.159893</td>\n",
       "      <td>1.000000</td>\n",
       "      <td>-0.145506</td>\n",
       "      <td>-0.306389</td>\n",
       "      <td>-0.104828</td>\n",
       "      <td>-0.184975</td>\n",
       "      <td>0.226639</td>\n",
       "    </tr>\n",
       "    <tr>\n",
       "      <th>ldh</th>\n",
       "      <td>0.096314</td>\n",
       "      <td>0.076573</td>\n",
       "      <td>0.011618</td>\n",
       "      <td>-0.025894</td>\n",
       "      <td>-0.099358</td>\n",
       "      <td>0.026259</td>\n",
       "      <td>0.036009</td>\n",
       "      <td>-0.145506</td>\n",
       "      <td>1.000000</td>\n",
       "      <td>0.190118</td>\n",
       "      <td>0.036051</td>\n",
       "      <td>0.041633</td>\n",
       "      <td>-0.065938</td>\n",
       "    </tr>\n",
       "    <tr>\n",
       "      <th>mort30</th>\n",
       "      <td>0.185644</td>\n",
       "      <td>0.212812</td>\n",
       "      <td>0.057245</td>\n",
       "      <td>-0.062688</td>\n",
       "      <td>-0.190993</td>\n",
       "      <td>0.126268</td>\n",
       "      <td>0.152382</td>\n",
       "      <td>-0.306389</td>\n",
       "      <td>0.190118</td>\n",
       "      <td>1.000000</td>\n",
       "      <td>0.158041</td>\n",
       "      <td>0.068272</td>\n",
       "      <td>-0.175986</td>\n",
       "    </tr>\n",
       "    <tr>\n",
       "      <th>admitted_icu</th>\n",
       "      <td>0.040699</td>\n",
       "      <td>0.101163</td>\n",
       "      <td>0.073851</td>\n",
       "      <td>-0.059980</td>\n",
       "      <td>-0.032574</td>\n",
       "      <td>0.072821</td>\n",
       "      <td>0.076972</td>\n",
       "      <td>-0.104828</td>\n",
       "      <td>0.036051</td>\n",
       "      <td>0.158041</td>\n",
       "      <td>1.000000</td>\n",
       "      <td>0.090193</td>\n",
       "      <td>-0.092520</td>\n",
       "    </tr>\n",
       "    <tr>\n",
       "      <th>LOS</th>\n",
       "      <td>0.168384</td>\n",
       "      <td>0.123628</td>\n",
       "      <td>0.060147</td>\n",
       "      <td>-0.104175</td>\n",
       "      <td>-0.091612</td>\n",
       "      <td>0.072856</td>\n",
       "      <td>0.065359</td>\n",
       "      <td>-0.184975</td>\n",
       "      <td>0.041633</td>\n",
       "      <td>0.068272</td>\n",
       "      <td>0.090193</td>\n",
       "      <td>1.000000</td>\n",
       "      <td>-0.116734</td>\n",
       "    </tr>\n",
       "    <tr>\n",
       "      <th>sat</th>\n",
       "      <td>-0.245881</td>\n",
       "      <td>-0.213507</td>\n",
       "      <td>-0.064776</td>\n",
       "      <td>0.070577</td>\n",
       "      <td>0.068199</td>\n",
       "      <td>-0.063848</td>\n",
       "      <td>-0.166231</td>\n",
       "      <td>0.226639</td>\n",
       "      <td>-0.065938</td>\n",
       "      <td>-0.175986</td>\n",
       "      <td>-0.092520</td>\n",
       "      <td>-0.116734</td>\n",
       "      <td>1.000000</td>\n",
       "    </tr>\n",
       "  </tbody>\n",
       "</table>\n",
       "</div>"
      ],
      "text/plain": [
       "                   age       crp         k        na        hb      crea  \\\n",
       "age           1.000000  0.109956  0.067153 -0.112773 -0.300786  0.137490   \n",
       "crp           0.109956  1.000000 -0.039596 -0.227597 -0.226596  0.121921   \n",
       "k             0.067153 -0.039596  1.000000 -0.022909 -0.032937  0.247768   \n",
       "na           -0.112773 -0.227597 -0.022909  1.000000  0.169583 -0.015624   \n",
       "hb           -0.300786 -0.226596 -0.032937  0.169583  1.000000 -0.139448   \n",
       "crea          0.137490  0.121921  0.247768 -0.015624 -0.139448  1.000000   \n",
       "leu           0.050679  0.299928  0.023261 -0.100049 -0.028538  0.047663   \n",
       "alb          -0.394458 -0.447836  0.011760  0.245157  0.548546 -0.136196   \n",
       "ldh           0.096314  0.076573  0.011618 -0.025894 -0.099358  0.026259   \n",
       "mort30        0.185644  0.212812  0.057245 -0.062688 -0.190993  0.126268   \n",
       "admitted_icu  0.040699  0.101163  0.073851 -0.059980 -0.032574  0.072821   \n",
       "LOS           0.168384  0.123628  0.060147 -0.104175 -0.091612  0.072856   \n",
       "sat          -0.245881 -0.213507 -0.064776  0.070577  0.068199 -0.063848   \n",
       "\n",
       "                   leu       alb       ldh    mort30  admitted_icu       LOS  \\\n",
       "age           0.050679 -0.394458  0.096314  0.185644      0.040699  0.168384   \n",
       "crp           0.299928 -0.447836  0.076573  0.212812      0.101163  0.123628   \n",
       "k             0.023261  0.011760  0.011618  0.057245      0.073851  0.060147   \n",
       "na           -0.100049  0.245157 -0.025894 -0.062688     -0.059980 -0.104175   \n",
       "hb           -0.028538  0.548546 -0.099358 -0.190993     -0.032574 -0.091612   \n",
       "crea          0.047663 -0.136196  0.026259  0.126268      0.072821  0.072856   \n",
       "leu           1.000000 -0.159893  0.036009  0.152382      0.076972  0.065359   \n",
       "alb          -0.159893  1.000000 -0.145506 -0.306389     -0.104828 -0.184975   \n",
       "ldh           0.036009 -0.145506  1.000000  0.190118      0.036051  0.041633   \n",
       "mort30        0.152382 -0.306389  0.190118  1.000000      0.158041  0.068272   \n",
       "admitted_icu  0.076972 -0.104828  0.036051  0.158041      1.000000  0.090193   \n",
       "LOS           0.065359 -0.184975  0.041633  0.068272      0.090193  1.000000   \n",
       "sat          -0.166231  0.226639 -0.065938 -0.175986     -0.092520 -0.116734   \n",
       "\n",
       "                   sat  \n",
       "age          -0.245881  \n",
       "crp          -0.213507  \n",
       "k            -0.064776  \n",
       "na            0.070577  \n",
       "hb            0.068199  \n",
       "crea         -0.063848  \n",
       "leu          -0.166231  \n",
       "alb           0.226639  \n",
       "ldh          -0.065938  \n",
       "mort30       -0.175986  \n",
       "admitted_icu -0.092520  \n",
       "LOS          -0.116734  \n",
       "sat           1.000000  "
      ]
     },
     "execution_count": 343,
     "metadata": {},
     "output_type": "execute_result"
    }
   ],
   "source": [
    "train.corr()"
   ]
  },
  {
   "cell_type": "code",
   "execution_count": 20,
   "id": "burning-sentence",
   "metadata": {},
   "outputs": [],
   "source": [
    "train[['rf', 'puls', 'bts']] = train[['rf', 'puls', 'bts']].astype('int')"
   ]
  },
  {
   "cell_type": "code",
   "execution_count": 21,
   "id": "descending-response",
   "metadata": {},
   "outputs": [],
   "source": [
    "val[['rf', 'puls', 'bts', 'admitted_icu', 'sat']] = val[['rf', 'puls', 'bts', 'admitted_icu', 'sat']].astype('int')"
   ]
  },
  {
   "cell_type": "code",
   "execution_count": 22,
   "id": "material-force",
   "metadata": {},
   "outputs": [],
   "source": [
    "val['sex'] = val['sex'].astype('str')"
   ]
  },
  {
   "cell_type": "code",
   "execution_count": 23,
   "id": "quick-century",
   "metadata": {},
   "outputs": [],
   "source": [
    "val = val.reset_index()"
   ]
  },
  {
   "cell_type": "code",
   "execution_count": 27,
   "id": "rough-remainder",
   "metadata": {},
   "outputs": [],
   "source": [
    "val.drop(columns = ['rownames'], inplace=True)"
   ]
  },
  {
   "cell_type": "code",
   "execution_count": 28,
   "id": "signed-employee",
   "metadata": {},
   "outputs": [
    {
     "data": {
      "text/plain": [
       "Index(['triage', 'bts', 'puls', 'sat', 'rf', 'crp', 'k', 'na', 'hb', 'crea',\n",
       "       'leu', 'alb', 'ldh', 'age', 'sex', 'mort30', 'admitted_icu', 'LOS'],\n",
       "      dtype='object')"
      ]
     },
     "execution_count": 28,
     "metadata": {},
     "output_type": "execute_result"
    }
   ],
   "source": [
    "val.columns"
   ]
  },
  {
   "cell_type": "code",
   "execution_count": 29,
   "id": "northern-secretary",
   "metadata": {},
   "outputs": [],
   "source": [
    "val= val[['triage', 'age', 'sex', 'crp', 'k', 'na', 'hb', 'crea', 'leu', 'alb',\n",
    "       'ldh', 'mort30', 'admitted_icu', 'LOS', 'sat', 'rf', 'puls', 'bts']]"
   ]
  },
  {
   "cell_type": "code",
   "execution_count": null,
   "id": "rational-handy",
   "metadata": {},
   "outputs": [],
   "source": [
    "# Val and Train Data now match!"
   ]
  },
  {
   "cell_type": "code",
   "execution_count": 72,
   "id": "generic-system",
   "metadata": {
    "scrolled": true
   },
   "outputs": [
    {
     "data": {
      "text/html": [
       "<div>\n",
       "<style scoped>\n",
       "    .dataframe tbody tr th:only-of-type {\n",
       "        vertical-align: middle;\n",
       "    }\n",
       "\n",
       "    .dataframe tbody tr th {\n",
       "        vertical-align: top;\n",
       "    }\n",
       "\n",
       "    .dataframe thead th {\n",
       "        text-align: right;\n",
       "    }\n",
       "</style>\n",
       "<table border=\"1\" class=\"dataframe\">\n",
       "  <thead>\n",
       "    <tr style=\"text-align: right;\">\n",
       "      <th></th>\n",
       "      <th>triage</th>\n",
       "      <th>age</th>\n",
       "      <th>crp</th>\n",
       "      <th>k</th>\n",
       "      <th>na</th>\n",
       "      <th>hb</th>\n",
       "      <th>crea</th>\n",
       "      <th>leu</th>\n",
       "      <th>alb</th>\n",
       "      <th>ldh</th>\n",
       "      <th>mort30</th>\n",
       "      <th>admitted_icu</th>\n",
       "      <th>LOS</th>\n",
       "      <th>sat</th>\n",
       "      <th>rf</th>\n",
       "      <th>puls</th>\n",
       "      <th>bts</th>\n",
       "      <th>sex_f</th>\n",
       "      <th>sex_m</th>\n",
       "    </tr>\n",
       "  </thead>\n",
       "  <tbody>\n",
       "    <tr>\n",
       "      <th>0</th>\n",
       "      <td>yellow</td>\n",
       "      <td>85.0</td>\n",
       "      <td>2.9</td>\n",
       "      <td>3.9</td>\n",
       "      <td>142.0</td>\n",
       "      <td>5.5</td>\n",
       "      <td>82.0</td>\n",
       "      <td>6.57</td>\n",
       "      <td>35.55</td>\n",
       "      <td>192.9</td>\n",
       "      <td>0.0</td>\n",
       "      <td>0</td>\n",
       "      <td>1.0</td>\n",
       "      <td>99</td>\n",
       "      <td>18</td>\n",
       "      <td>58</td>\n",
       "      <td>168</td>\n",
       "      <td>0</td>\n",
       "      <td>0</td>\n",
       "    </tr>\n",
       "  </tbody>\n",
       "</table>\n",
       "</div>"
      ],
      "text/plain": [
       "   triage   age  crp    k     na   hb  crea   leu    alb    ldh  mort30  \\\n",
       "0  yellow  85.0  2.9  3.9  142.0  5.5  82.0  6.57  35.55  192.9     0.0   \n",
       "\n",
       "   admitted_icu  LOS  sat  rf  puls  bts  sex_f  sex_m  \n",
       "0             0  1.0   99  18    58  168      0      0  "
      ]
     },
     "execution_count": 72,
     "metadata": {},
     "output_type": "execute_result"
    }
   ],
   "source": [
    "val.head(1)"
   ]
  },
  {
   "cell_type": "code",
   "execution_count": 73,
   "id": "passing-anime",
   "metadata": {},
   "outputs": [
    {
     "data": {
      "text/html": [
       "<div>\n",
       "<style scoped>\n",
       "    .dataframe tbody tr th:only-of-type {\n",
       "        vertical-align: middle;\n",
       "    }\n",
       "\n",
       "    .dataframe tbody tr th {\n",
       "        vertical-align: top;\n",
       "    }\n",
       "\n",
       "    .dataframe thead th {\n",
       "        text-align: right;\n",
       "    }\n",
       "</style>\n",
       "<table border=\"1\" class=\"dataframe\">\n",
       "  <thead>\n",
       "    <tr style=\"text-align: right;\">\n",
       "      <th></th>\n",
       "      <th>triage</th>\n",
       "      <th>age</th>\n",
       "      <th>crp</th>\n",
       "      <th>k</th>\n",
       "      <th>na</th>\n",
       "      <th>hb</th>\n",
       "      <th>crea</th>\n",
       "      <th>leu</th>\n",
       "      <th>alb</th>\n",
       "      <th>ldh</th>\n",
       "      <th>mort30</th>\n",
       "      <th>admitted_icu</th>\n",
       "      <th>LOS</th>\n",
       "      <th>sat</th>\n",
       "      <th>rf</th>\n",
       "      <th>puls</th>\n",
       "      <th>bts</th>\n",
       "      <th>sex_f</th>\n",
       "      <th>sex_m</th>\n",
       "    </tr>\n",
       "  </thead>\n",
       "  <tbody>\n",
       "    <tr>\n",
       "      <th>2</th>\n",
       "      <td>green</td>\n",
       "      <td>83.0</td>\n",
       "      <td>19.913540</td>\n",
       "      <td>4.254919</td>\n",
       "      <td>132.2926</td>\n",
       "      <td>7.5</td>\n",
       "      <td>61.46023</td>\n",
       "      <td>12.25</td>\n",
       "      <td>43.55455</td>\n",
       "      <td>161.0707</td>\n",
       "      <td>0.0</td>\n",
       "      <td>0.0</td>\n",
       "      <td>1</td>\n",
       "      <td>97.0</td>\n",
       "      <td>16</td>\n",
       "      <td>87</td>\n",
       "      <td>156</td>\n",
       "      <td>1</td>\n",
       "      <td>0</td>\n",
       "    </tr>\n",
       "    <tr>\n",
       "      <th>4</th>\n",
       "      <td>yellow</td>\n",
       "      <td>86.0</td>\n",
       "      <td>76.256850</td>\n",
       "      <td>3.600000</td>\n",
       "      <td>138.0000</td>\n",
       "      <td>7.6</td>\n",
       "      <td>92.00000</td>\n",
       "      <td>14.53</td>\n",
       "      <td>40.15953</td>\n",
       "      <td>237.6265</td>\n",
       "      <td>0.0</td>\n",
       "      <td>0.0</td>\n",
       "      <td>1</td>\n",
       "      <td>97.0</td>\n",
       "      <td>20</td>\n",
       "      <td>69</td>\n",
       "      <td>150</td>\n",
       "      <td>1</td>\n",
       "      <td>0</td>\n",
       "    </tr>\n",
       "    <tr>\n",
       "      <th>5</th>\n",
       "      <td>yellow</td>\n",
       "      <td>84.0</td>\n",
       "      <td>2.324502</td>\n",
       "      <td>3.300000</td>\n",
       "      <td>140.0000</td>\n",
       "      <td>7.2</td>\n",
       "      <td>76.00000</td>\n",
       "      <td>5.17</td>\n",
       "      <td>44.07696</td>\n",
       "      <td>228.2510</td>\n",
       "      <td>0.0</td>\n",
       "      <td>0.0</td>\n",
       "      <td>3</td>\n",
       "      <td>97.0</td>\n",
       "      <td>20</td>\n",
       "      <td>70</td>\n",
       "      <td>167</td>\n",
       "      <td>1</td>\n",
       "      <td>0</td>\n",
       "    </tr>\n",
       "    <tr>\n",
       "      <th>6</th>\n",
       "      <td>green</td>\n",
       "      <td>26.0</td>\n",
       "      <td>1.272165</td>\n",
       "      <td>4.209762</td>\n",
       "      <td>139.2029</td>\n",
       "      <td>8.8</td>\n",
       "      <td>98.09306</td>\n",
       "      <td>5.31</td>\n",
       "      <td>43.49407</td>\n",
       "      <td>168.7176</td>\n",
       "      <td>0.0</td>\n",
       "      <td>0.0</td>\n",
       "      <td>1</td>\n",
       "      <td>98.0</td>\n",
       "      <td>14</td>\n",
       "      <td>48</td>\n",
       "      <td>136</td>\n",
       "      <td>0</td>\n",
       "      <td>1</td>\n",
       "    </tr>\n",
       "    <tr>\n",
       "      <th>7</th>\n",
       "      <td>green</td>\n",
       "      <td>16.0</td>\n",
       "      <td>1.000000</td>\n",
       "      <td>4.974678</td>\n",
       "      <td>140.8252</td>\n",
       "      <td>8.5</td>\n",
       "      <td>66.45011</td>\n",
       "      <td>6.82</td>\n",
       "      <td>44.69751</td>\n",
       "      <td>155.9604</td>\n",
       "      <td>0.0</td>\n",
       "      <td>0.0</td>\n",
       "      <td>1</td>\n",
       "      <td>100.0</td>\n",
       "      <td>12</td>\n",
       "      <td>66</td>\n",
       "      <td>113</td>\n",
       "      <td>0</td>\n",
       "      <td>1</td>\n",
       "    </tr>\n",
       "  </tbody>\n",
       "</table>\n",
       "</div>"
      ],
      "text/plain": [
       "   triage   age        crp         k        na   hb      crea    leu  \\\n",
       "2   green  83.0  19.913540  4.254919  132.2926  7.5  61.46023  12.25   \n",
       "4  yellow  86.0  76.256850  3.600000  138.0000  7.6  92.00000  14.53   \n",
       "5  yellow  84.0   2.324502  3.300000  140.0000  7.2  76.00000   5.17   \n",
       "6   green  26.0   1.272165  4.209762  139.2029  8.8  98.09306   5.31   \n",
       "7   green  16.0   1.000000  4.974678  140.8252  8.5  66.45011   6.82   \n",
       "\n",
       "        alb       ldh  mort30  admitted_icu  LOS    sat  rf  puls  bts  sex_f  \\\n",
       "2  43.55455  161.0707     0.0           0.0    1   97.0  16    87  156      1   \n",
       "4  40.15953  237.6265     0.0           0.0    1   97.0  20    69  150      1   \n",
       "5  44.07696  228.2510     0.0           0.0    3   97.0  20    70  167      1   \n",
       "6  43.49407  168.7176     0.0           0.0    1   98.0  14    48  136      0   \n",
       "7  44.69751  155.9604     0.0           0.0    1  100.0  12    66  113      0   \n",
       "\n",
       "   sex_m  \n",
       "2      0  \n",
       "4      0  \n",
       "5      0  \n",
       "6      1  \n",
       "7      1  "
      ]
     },
     "execution_count": 73,
     "metadata": {},
     "output_type": "execute_result"
    }
   ],
   "source": [
    "train.head(5)"
   ]
  },
  {
   "cell_type": "code",
   "execution_count": 71,
   "id": "polyphonic-leisure",
   "metadata": {},
   "outputs": [],
   "source": [
    "train['sex_f']=np.where(train['sex']=='female', 1, 0)\n",
    "train['sex_m']=np.where(train['sex']=='male', 1, 0)\n",
    "train.drop(columns = ['sex'], inplace=True)\n",
    "\n",
    "val['sex_f']=np.where(val['sex']=='female', 1, 0)\n",
    "val['sex_m']=np.where(val['sex']=='male', 1, 0)\n",
    "val.drop(columns = ['sex'], inplace=True)"
   ]
  },
  {
   "cell_type": "markdown",
   "id": "binary-sunglasses",
   "metadata": {},
   "source": [
    "# Split Data"
   ]
  },
  {
   "cell_type": "code",
   "execution_count": 74,
   "id": "first-child",
   "metadata": {},
   "outputs": [],
   "source": [
    "# Remove all but blood test\n",
    "X_train = train.drop(columns = ['mort30','LOS', 'admitted_icu', 'triage'])"
   ]
  },
  {
   "cell_type": "code",
   "execution_count": 75,
   "id": "embedded-locking",
   "metadata": {},
   "outputs": [],
   "source": [
    "# Remove all but blood test\n",
    "X_val = val.drop(columns = ['mort30','LOS', 'admitted_icu', 'triage'])"
   ]
  },
  {
   "cell_type": "code",
   "execution_count": 76,
   "id": "quick-edwards",
   "metadata": {},
   "outputs": [],
   "source": [
    "y_train = train['mort30']"
   ]
  },
  {
   "cell_type": "code",
   "execution_count": 77,
   "id": "premier-musician",
   "metadata": {},
   "outputs": [],
   "source": [
    "y_val = val['mort30']"
   ]
  },
  {
   "cell_type": "code",
   "execution_count": 78,
   "id": "everyday-steering",
   "metadata": {},
   "outputs": [
    {
     "name": "stdout",
     "output_type": "stream",
     "text": [
      "(4717, 15)\n",
      "(4717,)\n"
     ]
    }
   ],
   "source": [
    "# Confirm shape\n",
    "print(X_train.shape)\n",
    "print(y_train.shape)"
   ]
  },
  {
   "cell_type": "markdown",
   "id": "uniform-laugh",
   "metadata": {},
   "source": [
    "# Set Baseline"
   ]
  },
  {
   "cell_type": "code",
   "execution_count": 79,
   "id": "unnecessary-edward",
   "metadata": {},
   "outputs": [
    {
     "data": {
      "text/plain": [
       "0.0    0.947212\n",
       "1.0    0.052788\n",
       "Name: mort30, dtype: float64"
      ]
     },
     "execution_count": 79,
     "metadata": {},
     "output_type": "execute_result"
    }
   ],
   "source": [
    "y_train.value_counts(normalize = True)\n",
    "# There's already an extraordinarily high skew towards survival (which is a good thing -- bad for modeling problems)"
   ]
  },
  {
   "cell_type": "code",
   "execution_count": 80,
   "id": "composite-spiritual",
   "metadata": {},
   "outputs": [
    {
     "data": {
      "text/html": [
       "<div>\n",
       "<style scoped>\n",
       "    .dataframe tbody tr th:only-of-type {\n",
       "        vertical-align: middle;\n",
       "    }\n",
       "\n",
       "    .dataframe tbody tr th {\n",
       "        vertical-align: top;\n",
       "    }\n",
       "\n",
       "    .dataframe thead th {\n",
       "        text-align: right;\n",
       "    }\n",
       "</style>\n",
       "<table border=\"1\" class=\"dataframe\">\n",
       "  <thead>\n",
       "    <tr style=\"text-align: right;\">\n",
       "      <th></th>\n",
       "      <th>age</th>\n",
       "      <th>crp</th>\n",
       "      <th>k</th>\n",
       "      <th>na</th>\n",
       "      <th>hb</th>\n",
       "      <th>crea</th>\n",
       "      <th>leu</th>\n",
       "      <th>alb</th>\n",
       "      <th>ldh</th>\n",
       "      <th>sat</th>\n",
       "      <th>rf</th>\n",
       "      <th>puls</th>\n",
       "      <th>bts</th>\n",
       "      <th>sex_f</th>\n",
       "      <th>sex_m</th>\n",
       "    </tr>\n",
       "  </thead>\n",
       "  <tbody>\n",
       "    <tr>\n",
       "      <th>2</th>\n",
       "      <td>83.0</td>\n",
       "      <td>19.91354</td>\n",
       "      <td>4.254919</td>\n",
       "      <td>132.2926</td>\n",
       "      <td>7.5</td>\n",
       "      <td>61.46023</td>\n",
       "      <td>12.25</td>\n",
       "      <td>43.55455</td>\n",
       "      <td>161.0707</td>\n",
       "      <td>97.0</td>\n",
       "      <td>16</td>\n",
       "      <td>87</td>\n",
       "      <td>156</td>\n",
       "      <td>1</td>\n",
       "      <td>0</td>\n",
       "    </tr>\n",
       "  </tbody>\n",
       "</table>\n",
       "</div>"
      ],
      "text/plain": [
       "    age       crp         k        na   hb      crea    leu       alb  \\\n",
       "2  83.0  19.91354  4.254919  132.2926  7.5  61.46023  12.25  43.55455   \n",
       "\n",
       "        ldh   sat  rf  puls  bts  sex_f  sex_m  \n",
       "2  161.0707  97.0  16    87  156      1      0  "
      ]
     },
     "execution_count": 80,
     "metadata": {},
     "output_type": "execute_result"
    }
   ],
   "source": [
    "X_train.head(1)"
   ]
  },
  {
   "cell_type": "markdown",
   "id": "boxed-resident",
   "metadata": {},
   "source": [
    "# Create Model"
   ]
  },
  {
   "cell_type": "code",
   "execution_count": 122,
   "id": "extended-pioneer",
   "metadata": {},
   "outputs": [],
   "source": [
    "from sklearn.pipeline import make_pipeline\n",
    "from sklearn.preprocessing import StandardScaler\n",
    "from sklearn.linear_model import LogisticRegression\n",
    "from sklearn.metrics import r2_score\n",
    "from sklearn.ensemble import RandomForestClassifier\n",
    "from sklearn.naive_bayes import GaussianNB"
   ]
  },
  {
   "cell_type": "code",
   "execution_count": 88,
   "id": "velvet-draft",
   "metadata": {},
   "outputs": [],
   "source": [
    "# base model using logistic regression\n",
    "model_lr = make_pipeline(\n",
    "    StandardScaler(),\n",
    "    LogisticRegression()\n",
    ")\n",
    "\n",
    "model_lr.fit(X_train, y_train)"
   ]
  },
  {
   "cell_type": "code",
   "execution_count": 96,
   "id": "tropical-nickname",
   "metadata": {},
   "outputs": [
    {
     "name": "stdout",
     "output_type": "stream",
     "text": [
      "Training Accuracy Score: 0.9474242103031588\n",
      "Validation Accuracy Score: 0.9584837545126353\n"
     ]
    }
   ],
   "source": [
    "#Logistic Regression Model\n",
    "lr_train_acc = model_lr.score(X_train, y_train)\n",
    "lr_val_acc = model_lr.score(X_val, y_val)\n",
    "\n",
    "print('Training Accuracy Score:', train_acc_lr)\n",
    "print('Validation Accuracy Score:', val_acc_lr)"
   ]
  },
  {
   "cell_type": "code",
   "execution_count": 97,
   "id": "backed-reader",
   "metadata": {},
   "outputs": [
    {
     "data": {
      "image/png": "[encoded data removed]",
      "text/plain": [
       "<Figure size 432x288 with 2 Axes>"
      ]
     },
     "metadata": {
      "needs_background": "light"
     },
     "output_type": "display_data"
    }
   ],
   "source": [
    "# Precission & Recall\n",
    "import matplotlib.pyplot as plt\n",
    "from sklearn.metrics import accuracy_score, plot_confusion_matrix, classification_report\n",
    "\n",
    "plot_confusion_matrix(\n",
    "    model_lr,\n",
    "    X_val,\n",
    "    y_val,\n",
    "    values_format='.0f',\n",
    "    cmap=plt.cm.Blues_r\n",
    ");\n",
    "plt.show()"
   ]
  },
  {
   "cell_type": "code",
   "execution_count": 119,
   "id": "leading-timeline",
   "metadata": {},
   "outputs": [],
   "source": [
    "# model using random forrest classifier\n",
    "\n",
    "model_rf = make_pipeline(\n",
    "    StandardScaler(),\n",
    "    RandomForestClassifier(n_estimators=300, \n",
    "                           max_depth=30)\n",
    ")\n",
    "\n",
    "model_rf.fit(X_train, y_train);"
   ]
  },
  {
   "cell_type": "code",
   "execution_count": 120,
   "id": "labeled-sitting",
   "metadata": {},
   "outputs": [
    {
     "name": "stdout",
     "output_type": "stream",
     "text": [
      "Training Accuracy Score: 1.0\n",
      "Validation Accuracy Score: 0.9607400722021661\n"
     ]
    }
   ],
   "source": [
    "#Logistic Regression Model\n",
    "rf_train_acc = model_rf.score(X_train, y_train)\n",
    "rf_val_acc = model_rf.score(X_val, y_val)\n",
    "\n",
    "print('Training Accuracy Score:', rf_train_acc)\n",
    "print('Validation Accuracy Score:', rf_val_acc)"
   ]
  },
  {
   "cell_type": "code",
   "execution_count": 121,
   "id": "induced-breed",
   "metadata": {
    "scrolled": true
   },
   "outputs": [
    {
     "data": {
      "image/png": "[encoded data removed]",
      "text/plain": [
       "<Figure size 432x288 with 2 Axes>"
      ]
     },
     "metadata": {
      "needs_background": "light"
     },
     "output_type": "display_data"
    }
   ],
   "source": [
    "# Precission & Recall\n",
    "plot_confusion_matrix(\n",
    "    model_rf,\n",
    "    X_val,\n",
    "    y_val,\n",
    "    values_format='.0f',\n",
    "    cmap=plt.cm.Blues_r\n",
    ");\n",
    "plt.show()"
   ]
  },
  {
   "cell_type": "code",
   "execution_count": 126,
   "id": "assisted-jackson",
   "metadata": {},
   "outputs": [
    {
     "data": {
      "text/plain": [
       "Pipeline(steps=[('standardscaler', StandardScaler()),\n",
       "                ('gaussiannb', GaussianNB())])"
      ]
     },
     "execution_count": 126,
     "metadata": {},
     "output_type": "execute_result"
    }
   ],
   "source": [
    "# Naive Bayes\n",
    "model_b = make_pipeline(\n",
    "    StandardScaler(),\n",
    "    GaussianNB()\n",
    ")\n",
    "\n",
    "model_b.fit(X_train, y_train)"
   ]
  },
  {
   "cell_type": "code",
   "execution_count": 129,
   "id": "collaborative-raising",
   "metadata": {},
   "outputs": [
    {
     "name": "stdout",
     "output_type": "stream",
     "text": [
      "Training Accuracy Score: 0.909688361246555\n",
      "Validation Accuracy Score: 0.9201263537906137\n"
     ]
    }
   ],
   "source": [
    "#Logistic Regression Model\n",
    "b_train_acc = model_b.score(X_train, y_train)\n",
    "b_val_acc = model_b.score(X_val, y_val)\n",
    "\n",
    "print('Training Accuracy Score:', b_train_acc)\n",
    "print('Validation Accuracy Score:', b_val_acc)"
   ]
  },
  {
   "cell_type": "code",
   "execution_count": 130,
   "id": "excessive-favorite",
   "metadata": {},
   "outputs": [
    {
     "data": {
      "image/png": "[encoded data removed]",
      "text/plain": [
       "<Figure size 432x288 with 2 Axes>"
      ]
     },
     "metadata": {
      "needs_background": "light"
     },
     "output_type": "display_data"
    }
   ],
   "source": [
    "# Precission & Recall\n",
    "plot_confusion_matrix(\n",
    "    model_b,\n",
    "    X_val,\n",
    "    y_val,\n",
    "    values_format='.0f',\n",
    "    cmap=plt.cm.Blues_r\n",
    ");\n",
    "plt.show()"
   ]
  },
  {
   "cell_type": "markdown",
   "id": "available-electric",
   "metadata": {},
   "source": [
    "# Results"
   ]
  },
  {
   "cell_type": "markdown",
   "id": "present-church",
   "metadata": {},
   "source": []
  }
 ],
 "metadata": {
  "kernelspec": {
   "display_name": "Python 3",
   "language": "python",
   "name": "python3"
  },
  "language_info": {
   "codemirror_mode": {
    "name": "ipython",
    "version": 3
   },
   "file_extension": ".py",
   "mimetype": "text/x-python",
   "name": "python",
   "nbconvert_exporter": "python",
   "pygments_lexer": "ipython3",
   "version": "3.8.7"
  }
 },
 "nbformat": 4,
 "nbformat_minor": 5
}
